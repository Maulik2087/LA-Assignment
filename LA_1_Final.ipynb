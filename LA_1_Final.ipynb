{
 "cells": [
  {
   "cell_type": "code",
   "execution_count": 2,
   "metadata": {
    "collapsed": false
   },
   "outputs": [
    {
     "name": "stdout",
     "output_type": "stream",
     "text": [
      "[[  2.   3.   1.  10.]\n",
      " [  1.   7.   1.  16.]\n",
      " [  4.   5.   2.   1.]\n",
      " [  3.   2.   2.   1.]]\n",
      "[[ 1.  0.  0.  0.]\n",
      " [ 0.  1.  0.  0.]\n",
      " [ 0.  0.  1.  0.]\n",
      " [ 0.  0.  0.  1.]]\n",
      "[[ 0.73228346 -0.4488189   0.40944882 -0.5511811 ]\n",
      " [-0.24409449  0.1496063   0.19685039 -0.1496063 ]\n",
      " [-0.91338583  0.52755906 -0.77952756  1.47244094]\n",
      " [ 0.11811024 -0.00787402 -0.06299213  0.00787402]]\n"
     ]
    }
   ],
   "source": [
    "import numpy as np\n",
    "\n",
    "A=np.array([[2,3,1,10],[1,7,1,16],[4,5,2,1],[3,2,2,1]],dtype=float)\n",
    "print(A)\n",
    "\n",
    "def swap_rows(A,i,j):\n",
    "    #assignment creates only a new reference to the object. You should use the “copy” method:\n",
    "    temp=A[i,:].copy()\n",
    "    A[i,:]=A[j,:]\n",
    "    A[j,:]=temp\n",
    "    return A\n",
    "\n",
    "#function to add weighted rows.i and j are two rows and jth row is added to i.k is weight of ith row and l is weight of jth row\n",
    "def add_rows_weighted(A,i,j,k,l):\n",
    "    A[i,:]=k*A[i,:]\n",
    "    A[i,:]+=l*A[j,:]\n",
    "    return A\n",
    "#function to return row number in form of an array for zero rows\n",
    "def check_zero_row(A):\n",
    "    temp=A.any(axis=1)\n",
    "    return temp\n",
    "\n",
    "#to avoid zero pivot and exchange rows accordingly\n",
    "def pivot_exchange(A,i,identity):\n",
    "    temp=np.argsort(A[:,i][i:])\n",
    "    swap_rows(A,i,i+temp[len(temp)-1])\n",
    "    swap_rows(identity,i,i+temp[len(temp)-1])\n",
    "    return A\n",
    "    \n",
    "def row_reduce(A,identity):\n",
    "    \n",
    "    for i in range(4):\n",
    "        A[np.abs(A)<0.001]=0\n",
    "        identity[np.abs(identity)<0.001]=0\n",
    "        A=pivot_exchange(A,i,identity)\n",
    "        if(A[i,i]!=0):\n",
    "            identity=add_rows_weighted(identity,i,i,1/(A[i,i]),0)\n",
    "            A=add_rows_weighted(A,i,i,1/(A[i,i]),0)\n",
    "            for j in range(4):\n",
    "                if(i==j):\n",
    "                  continue;\n",
    "                identity=add_rows_weighted(identity,j,i,1,-A[j][i])\n",
    "                A=add_rows_weighted(A,j,i,1,-A[j][i])\n",
    "    zeroo=check_zero_row(A)\n",
    "    return A\n",
    "\n",
    "identity=np.array([[1.0,0,0,0],[0,1.0,0,0],[0,0,1.0,0],[0,0,0,1.0]],dtype=float)\n",
    "A=row_reduce(A,identity)\n",
    "print(A)\n",
    "identity[np.abs(identity)<0.001]=0\n",
    "print(identity)\n",
    "\n",
    "\n"
   ]
  }
 ],
 "metadata": {
  "kernelspec": {
   "display_name": "Python 3",
   "language": "python",
   "name": "python3"
  },
  "language_info": {
   "codemirror_mode": {
    "name": "ipython",
    "version": 3
   },
   "file_extension": ".py",
   "mimetype": "text/x-python",
   "name": "python",
   "nbconvert_exporter": "python",
   "pygments_lexer": "ipython3",
   "version": "3.5.2"
  }
 },
 "nbformat": 4,
 "nbformat_minor": 2
}
